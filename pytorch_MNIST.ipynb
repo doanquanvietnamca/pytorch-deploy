{
  "nbformat": 4,
  "nbformat_minor": 0,
  "metadata": {
    "colab": {
      "name": "FASHIONMNIST_pytorch.ipynb",
      "provenance": [],
      "include_colab_link": true
    },
    "kernelspec": {
      "name": "python3",
      "display_name": "Python 3"
    }
  },
  "cells": [
    {
      "cell_type": "markdown",
      "metadata": {
        "id": "view-in-github",
        "colab_type": "text"
      },
      "source": [
        "<a href=\"https://colab.research.google.com/github/doanquanvietnamca/pytorch-deploy/blob/master/pytorch_MNIST.ipynb\" target=\"_parent\"><img src=\"https://colab.research.google.com/assets/colab-badge.svg\" alt=\"Open In Colab\"/></a>"
      ]
    },
    {
      "cell_type": "code",
      "metadata": {
        "id": "7Dthgqc3npq-",
        "colab_type": "code",
        "colab": {}
      },
      "source": [
        "from torch import torch\n",
        "import matplotlib.pyplot as plt\n",
        "%matplotlib inline\n",
        "plt.style.use('ggplot')"
      ],
      "execution_count": 0,
      "outputs": []
    },
    {
      "cell_type": "code",
      "metadata": {
        "id": "VoB4naf1n0PN",
        "colab_type": "code",
        "colab": {}
      },
      "source": [
        "from torch import optim,nn\n",
        "from torch.utils.data import DataLoader\n",
        "from torchvision import transforms"
      ],
      "execution_count": 0,
      "outputs": []
    },
    {
      "cell_type": "code",
      "metadata": {
        "id": "KGFw1egTn6aG",
        "colab_type": "code",
        "colab": {}
      },
      "source": [
        "from torchvision import datasets"
      ],
      "execution_count": 0,
      "outputs": []
    },
    {
      "cell_type": "code",
      "metadata": {
        "id": "Q2AFkrX6oILn",
        "colab_type": "code",
        "outputId": "feb3d826-2bd9-432f-b3de-33642ab64629",
        "colab": {
          "base_uri": "https://localhost:8080/",
          "height": 255
        }
      },
      "source": [
        "mnist_train = datasets.FashionMNIST(root='Fashion-MNIST/processed/training.pt', train=True, transform=transforms.ToTensor(), download=True)"
      ],
      "execution_count": 0,
      "outputs": [
        {
          "output_type": "stream",
          "text": [
            "\r0it [00:00, ?it/s]"
          ],
          "name": "stderr"
        },
        {
          "output_type": "stream",
          "text": [
            "Downloading http://fashion-mnist.s3-website.eu-central-1.amazonaws.com/train-images-idx3-ubyte.gz to Fashion-MNIST/processed/training.pt/FashionMNIST/raw/train-images-idx3-ubyte.gz\n"
          ],
          "name": "stdout"
        },
        {
          "output_type": "stream",
          "text": [
            "26427392it [00:04, 5894245.78it/s]                               \n"
          ],
          "name": "stderr"
        },
        {
          "output_type": "stream",
          "text": [
            "Extracting Fashion-MNIST/processed/training.pt/FashionMNIST/raw/train-images-idx3-ubyte.gz to Fashion-MNIST/processed/training.pt/FashionMNIST/raw\n"
          ],
          "name": "stdout"
        },
        {
          "output_type": "stream",
          "text": [
            "\r0it [00:00, ?it/s]"
          ],
          "name": "stderr"
        },
        {
          "output_type": "stream",
          "text": [
            "Downloading http://fashion-mnist.s3-website.eu-central-1.amazonaws.com/train-labels-idx1-ubyte.gz to Fashion-MNIST/processed/training.pt/FashionMNIST/raw/train-labels-idx1-ubyte.gz\n"
          ],
          "name": "stdout"
        },
        {
          "output_type": "stream",
          "text": [
            "32768it [00:00, 38003.14it/s]                           \n",
            "0it [00:00, ?it/s]"
          ],
          "name": "stderr"
        },
        {
          "output_type": "stream",
          "text": [
            "Extracting Fashion-MNIST/processed/training.pt/FashionMNIST/raw/train-labels-idx1-ubyte.gz to Fashion-MNIST/processed/training.pt/FashionMNIST/raw\n",
            "Downloading http://fashion-mnist.s3-website.eu-central-1.amazonaws.com/t10k-images-idx3-ubyte.gz to Fashion-MNIST/processed/training.pt/FashionMNIST/raw/t10k-images-idx3-ubyte.gz\n"
          ],
          "name": "stdout"
        },
        {
          "output_type": "stream",
          "text": [
            "4423680it [00:02, 1702858.60it/s]                            \n",
            "0it [00:00, ?it/s]"
          ],
          "name": "stderr"
        },
        {
          "output_type": "stream",
          "text": [
            "Extracting Fashion-MNIST/processed/training.pt/FashionMNIST/raw/t10k-images-idx3-ubyte.gz to Fashion-MNIST/processed/training.pt/FashionMNIST/raw\n",
            "Downloading http://fashion-mnist.s3-website.eu-central-1.amazonaws.com/t10k-labels-idx1-ubyte.gz to Fashion-MNIST/processed/training.pt/FashionMNIST/raw/t10k-labels-idx1-ubyte.gz\n"
          ],
          "name": "stdout"
        },
        {
          "output_type": "stream",
          "text": [
            "8192it [00:00, 15398.18it/s]            "
          ],
          "name": "stderr"
        },
        {
          "output_type": "stream",
          "text": [
            "Extracting Fashion-MNIST/processed/training.pt/FashionMNIST/raw/t10k-labels-idx1-ubyte.gz to Fashion-MNIST/processed/training.pt/FashionMNIST/raw\n",
            "Processing...\n",
            "Done!\n"
          ],
          "name": "stdout"
        },
        {
          "output_type": "stream",
          "text": [
            "\n"
          ],
          "name": "stderr"
        }
      ]
    },
    {
      "cell_type": "code",
      "metadata": {
        "id": "khWUSC51p3u6",
        "colab_type": "code",
        "colab": {}
      },
      "source": [
        "mnist_val = datasets.FashionMNIST(root='Fashion-MNIST/processed/training.pt', train=False, transform=transforms.ToTensor(), download=True)"
      ],
      "execution_count": 0,
      "outputs": []
    },
    {
      "cell_type": "code",
      "metadata": {
        "id": "c2vkmoYHdZDu",
        "colab_type": "code",
        "colab": {}
      },
      "source": [
        ""
      ],
      "execution_count": 0,
      "outputs": []
    },
    {
      "cell_type": "code",
      "metadata": {
        "id": "bMJDBlPlqCdR",
        "colab_type": "code",
        "colab": {}
      },
      "source": [
        "train_loader = DataLoader(mnist_train, batch_size=32)\n",
        "val_loader = DataLoader(mnist_val, batch_size=32)\n"
      ],
      "execution_count": 0,
      "outputs": []
    },
    {
      "cell_type": "code",
      "metadata": {
        "id": "OY1kvksIrU4z",
        "colab_type": "code",
        "colab": {}
      },
      "source": [
        "import torch.nn.functional as F\n",
        "import numpy as np\n",
        "class learner(nn.Module):\n",
        "  def __init__(self, input, output):\n",
        "    super(learner, self).__init__()\n",
        "    self.liner1 = nn.Linear(input,128)\n",
        "    self.liner2 = nn.Linear(128,64)\n",
        "    self.liner3 = nn.Linear(64,output)\n",
        "  def forward(self,x):\n",
        "    y1 = F.relu(self.liner1(x))\n",
        "    y2 = F.relu(self.liner2(y1))\n",
        "    y3 = self.liner3(y2)\n",
        "    return F.softmax(y3,dim=1)\n"
      ],
      "execution_count": 0,
      "outputs": []
    },
    {
      "cell_type": "code",
      "metadata": {
        "id": "M-FZ9DYrBBJO",
        "colab_type": "code",
        "colab": {}
      },
      "source": [
        "\n",
        "def to_categorical(y, num_classes):\n",
        "    \"\"\" 1-hot encodes a tensor \"\"\"\n",
        "    return torch.from_numpy(np.eye(num_classes, dtype='uint8')[y]).float()\n",
        "    "
      ],
      "execution_count": 0,
      "outputs": []
    },
    {
      "cell_type": "code",
      "metadata": {
        "id": "HSwGA9G3Bnw8",
        "colab_type": "code",
        "outputId": "35265c37-5d82-4068-f903-80c6c2592952",
        "colab": {
          "base_uri": "https://localhost:8080/",
          "height": 34
        }
      },
      "source": [
        "to_categorical(2,10)"
      ],
      "execution_count": 0,
      "outputs": [
        {
          "output_type": "execute_result",
          "data": {
            "text/plain": [
              "tensor([0., 0., 1., 0., 0., 0., 0., 0., 0., 0.])"
            ]
          },
          "metadata": {
            "tags": []
          },
          "execution_count": 172
        }
      ]
    },
    {
      "cell_type": "code",
      "metadata": {
        "id": "ysIKQJoN1XGH",
        "colab_type": "code",
        "colab": {}
      },
      "source": [
        "model = learner(784,10)\n",
        "\n",
        "loss_F = nn.CrossEntropyLoss()\n",
        "optimer = optim.SGD(params=model.parameters(), lr=0.001)"
      ],
      "execution_count": 0,
      "outputs": []
    },
    {
      "cell_type": "code",
      "metadata": {
        "id": "QNOJiZ_S3L8x",
        "colab_type": "code",
        "outputId": "820f6ac2-e313-4d18-d020-5e131e710968",
        "colab": {
          "base_uri": "https://localhost:8080/",
          "height": 170
        }
      },
      "source": [
        "MLOSS = []\n",
        "from tqdm import tqdm\n",
        "\n",
        "def train(epochs):\n",
        "  for i in range(epochs):\n",
        "    for x,y in tqdm(iter(train_loader)):\n",
        "      optimer.zero_grad()\n",
        "\n",
        "      ypred= model(x.view(32,784))\n",
        "      #print(ypred.shape, y.shape)\n",
        "      loss = loss_F( ypred,y)\n",
        "      \n",
        "      loss.backward()\n",
        "      optimer.step()\n",
        "    MLOSS.append(loss_F(ypred, y))\n",
        "  return MLOSS\n",
        "train(60)"
      ],
      "execution_count": 0,
      "outputs": [
        {
          "output_type": "stream",
          "text": [
            "100%|██████████| 1875/1875 [00:08<00:00, 231.23it/s]\n",
            "100%|██████████| 1875/1875 [00:08<00:00, 233.47it/s]\n",
            "100%|██████████| 1875/1875 [00:08<00:00, 230.95it/s]\n",
            "100%|██████████| 1875/1875 [00:08<00:00, 232.90it/s]\n",
            "100%|██████████| 1875/1875 [00:07<00:00, 235.93it/s]\n",
            "100%|██████████| 1875/1875 [00:08<00:00, 232.59it/s]\n",
            "100%|██████████| 1875/1875 [00:07<00:00, 234.73it/s]\n",
            "100%|██████████| 1875/1875 [00:08<00:00, 227.47it/s]\n",
            " 28%|██▊       | 532/1875 [00:02<00:05, 227.56it/s]"
          ],
          "name": "stderr"
        }
      ]
    },
    {
      "cell_type": "code",
      "metadata": {
        "id": "RqpMUSqeqNnm",
        "colab_type": "code",
        "outputId": "1364395d-9aea-42c5-8252-7c2507c26bd1",
        "colab": {
          "base_uri": "https://localhost:8080/",
          "height": 68
        }
      },
      "source": [
        "def val():\n",
        "  correct = 0\n",
        "  predict= []\n",
        "  all = 0\n",
        "  for x,y in tqdm(iter(val_loader)):\n",
        "    ypred = model(x.view(x.shape[0],784))\n",
        "    ypred = np.argmax(ypred.detach().numpy(), axis=1)\n",
        "    correct += (ypred == y.detach().numpy()).sum()\n",
        "    all += x.shape[0]\n",
        "    predict.append(ypred)\n",
        "  print(\"\\n\", correct/all)\n",
        "  return predict\n",
        "predict = val()"
      ],
      "execution_count": 0,
      "outputs": [
        {
          "output_type": "stream",
          "text": [
            "100%|██████████| 313/313 [00:00<00:00, 322.54it/s]"
          ],
          "name": "stderr"
        },
        {
          "output_type": "stream",
          "text": [
            "\n",
            " 0.761\n"
          ],
          "name": "stdout"
        },
        {
          "output_type": "stream",
          "text": [
            "\n"
          ],
          "name": "stderr"
        }
      ]
    },
    {
      "cell_type": "code",
      "metadata": {
        "id": "vmUvGRle2lD6",
        "colab_type": "code",
        "outputId": "eebb2aed-5868-45a4-a451-54840e275795",
        "colab": {
          "base_uri": "https://localhost:8080/",
          "height": 164
        }
      },
      "source": [
        "val_loader.y"
      ],
      "execution_count": 0,
      "outputs": [
        {
          "output_type": "error",
          "ename": "AttributeError",
          "evalue": "ignored",
          "traceback": [
            "\u001b[0;31m---------------------------------------------------------------------------\u001b[0m",
            "\u001b[0;31mAttributeError\u001b[0m                            Traceback (most recent call last)",
            "\u001b[0;32m<ipython-input-158-05196fb6182a>\u001b[0m in \u001b[0;36m<module>\u001b[0;34m()\u001b[0m\n\u001b[0;32m----> 1\u001b[0;31m \u001b[0mval_loader\u001b[0m\u001b[0;34m.\u001b[0m\u001b[0my\u001b[0m\u001b[0;34m\u001b[0m\u001b[0;34m\u001b[0m\u001b[0m\n\u001b[0m",
            "\u001b[0;31mAttributeError\u001b[0m: 'DataLoader' object has no attribute 'y'"
          ]
        }
      ]
    },
    {
      "cell_type": "code",
      "metadata": {
        "id": "fkTOvhXQsDci",
        "colab_type": "code",
        "outputId": "5b675374-a3ec-409b-ae73-24d7f5d4e424",
        "colab": {
          "base_uri": "https://localhost:8080/",
          "height": 164
        }
      },
      "source": [
        "train_loader.y "
      ],
      "execution_count": 0,
      "outputs": [
        {
          "output_type": "error",
          "ename": "AttributeError",
          "evalue": "ignored",
          "traceback": [
            "\u001b[0;31m---------------------------------------------------------------------------\u001b[0m",
            "\u001b[0;31mAttributeError\u001b[0m                            Traceback (most recent call last)",
            "\u001b[0;32m<ipython-input-27-a80e14181348>\u001b[0m in \u001b[0;36m<module>\u001b[0;34m()\u001b[0m\n\u001b[0;32m----> 1\u001b[0;31m \u001b[0mtrain_loader\u001b[0m\u001b[0;34m.\u001b[0m\u001b[0my\u001b[0m\u001b[0;34m\u001b[0m\u001b[0;34m\u001b[0m\u001b[0m\n\u001b[0m",
            "\u001b[0;31mAttributeError\u001b[0m: 'DataLoader' object has no attribute 'y'"
          ]
        }
      ]
    },
    {
      "cell_type": "code",
      "metadata": {
        "id": "hcbS3vH6sHj6",
        "colab_type": "code",
        "colab": {}
      },
      "source": [
        ""
      ],
      "execution_count": 0,
      "outputs": []
    }
  ]
}